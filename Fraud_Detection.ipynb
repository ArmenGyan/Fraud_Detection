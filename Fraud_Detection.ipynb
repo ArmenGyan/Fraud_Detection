{
 "cells": [
  {
   "cell_type": "code",
   "execution_count": 1,
   "metadata": {},
   "outputs": [],
   "source": [
    "# library versions.\n",
    "\n",
    "# pandas version 1.1.3\n",
    "# numpy version 1.19.2\n",
    "# sklearn version 0.23.2\n",
    "# matplotlib version 3.3.2"
   ]
  },
  {
   "cell_type": "code",
   "execution_count": 74,
   "metadata": {},
   "outputs": [],
   "source": [
    "# import dependencies.\n",
    "\n",
    "import pandas as pd\n",
    "import numpy as np\n",
    "from sklearn.model_selection import train_test_split\n",
    "from imblearn.under_sampling import RandomUnderSampler\n",
    "from sklearn.linear_model import LogisticRegression\n",
    "from sklearn.metrics import classification_report, confusion_matrix, roc_auc_score\n",
    "from sklearn.ensemble import RandomForestClassifier\n",
    "from sklearn.model_selection import GridSearchCV\n",
    "from sklearn.preprocessing import StandardScaler\n",
    "from sklearn.decomposition import PCA\n",
    "from joblib import dump, load\n",
    "import matplotlib.pyplot as plt\n",
    "\n",
    "%matplotlib inline"
   ]
  },
  {
   "cell_type": "code",
   "execution_count": 3,
   "metadata": {},
   "outputs": [],
   "source": [
    "import warnings\n",
    "warnings.filterwarnings('ignore')"
   ]
  },
  {
   "cell_type": "code",
   "execution_count": null,
   "metadata": {},
   "outputs": [],
   "source": []
  },
  {
   "cell_type": "code",
   "execution_count": 75,
   "metadata": {},
   "outputs": [],
   "source": [
    "profile_df = pd.read_csv('fraud_profile.csv')"
   ]
  },
  {
   "cell_type": "code",
   "execution_count": 76,
   "metadata": {},
   "outputs": [],
   "source": [
    "behavior_df = pd.read_csv('fraud_behavior.csv')"
   ]
  },
  {
   "cell_type": "code",
   "execution_count": 77,
   "metadata": {},
   "outputs": [
    {
     "data": {
      "text/html": [
       "<div>\n",
       "<style scoped>\n",
       "    .dataframe tbody tr th:only-of-type {\n",
       "        vertical-align: middle;\n",
       "    }\n",
       "\n",
       "    .dataframe tbody tr th {\n",
       "        vertical-align: top;\n",
       "    }\n",
       "\n",
       "    .dataframe thead th {\n",
       "        text-align: right;\n",
       "    }\n",
       "</style>\n",
       "<table border=\"1\" class=\"dataframe\">\n",
       "  <thead>\n",
       "    <tr style=\"text-align: right;\">\n",
       "      <th></th>\n",
       "      <th>user</th>\n",
       "      <th>fraud</th>\n",
       "      <th>email_domain</th>\n",
       "      <th>ip_asn</th>\n",
       "      <th>signup_datetime</th>\n",
       "      <th>gender</th>\n",
       "      <th>marital</th>\n",
       "      <th>employment</th>\n",
       "      <th>pet</th>\n",
       "    </tr>\n",
       "  </thead>\n",
       "  <tbody>\n",
       "    <tr>\n",
       "      <th>0</th>\n",
       "      <td>1000000</td>\n",
       "      <td>0</td>\n",
       "      <td>c</td>\n",
       "      <td>11202</td>\n",
       "      <td>2020-05-03 17:29:33</td>\n",
       "      <td>1.0</td>\n",
       "      <td>Married</td>\n",
       "      <td>i</td>\n",
       "      <td>['No pets']</td>\n",
       "    </tr>\n",
       "    <tr>\n",
       "      <th>1</th>\n",
       "      <td>1000015</td>\n",
       "      <td>0</td>\n",
       "      <td>f</td>\n",
       "      <td>11202</td>\n",
       "      <td>2020-05-03 17:32:33</td>\n",
       "      <td>1.0</td>\n",
       "      <td>Married</td>\n",
       "      <td>d</td>\n",
       "      <td>['Cat']</td>\n",
       "    </tr>\n",
       "    <tr>\n",
       "      <th>2</th>\n",
       "      <td>1000019</td>\n",
       "      <td>0</td>\n",
       "      <td>c</td>\n",
       "      <td>11202</td>\n",
       "      <td>2020-05-03 17:33:52</td>\n",
       "      <td>1.0</td>\n",
       "      <td>Single</td>\n",
       "      <td>f</td>\n",
       "      <td>['No pets']</td>\n",
       "    </tr>\n",
       "    <tr>\n",
       "      <th>3</th>\n",
       "      <td>1000045</td>\n",
       "      <td>0</td>\n",
       "      <td>c</td>\n",
       "      <td>11202</td>\n",
       "      <td>2020-05-03 17:37:58</td>\n",
       "      <td>1.0</td>\n",
       "      <td>Married</td>\n",
       "      <td>f</td>\n",
       "      <td>['No pets']</td>\n",
       "    </tr>\n",
       "    <tr>\n",
       "      <th>4</th>\n",
       "      <td>1000076</td>\n",
       "      <td>0</td>\n",
       "      <td>c</td>\n",
       "      <td>11202</td>\n",
       "      <td>2020-05-03 17:42:42</td>\n",
       "      <td>0.0</td>\n",
       "      <td>Single</td>\n",
       "      <td>b</td>\n",
       "      <td>['No pets']</td>\n",
       "    </tr>\n",
       "  </tbody>\n",
       "</table>\n",
       "</div>"
      ],
      "text/plain": [
       "      user  fraud email_domain  ip_asn      signup_datetime  gender  marital  \\\n",
       "0  1000000      0            c   11202  2020-05-03 17:29:33     1.0  Married   \n",
       "1  1000015      0            f   11202  2020-05-03 17:32:33     1.0  Married   \n",
       "2  1000019      0            c   11202  2020-05-03 17:33:52     1.0   Single   \n",
       "3  1000045      0            c   11202  2020-05-03 17:37:58     1.0  Married   \n",
       "4  1000076      0            c   11202  2020-05-03 17:42:42     0.0   Single   \n",
       "\n",
       "  employment          pet  \n",
       "0          i  ['No pets']  \n",
       "1          d      ['Cat']  \n",
       "2          f  ['No pets']  \n",
       "3          f  ['No pets']  \n",
       "4          b  ['No pets']  "
      ]
     },
     "execution_count": 77,
     "metadata": {},
     "output_type": "execute_result"
    }
   ],
   "source": [
    "profile_df.head()"
   ]
  },
  {
   "cell_type": "code",
   "execution_count": 78,
   "metadata": {},
   "outputs": [
    {
     "name": "stdout",
     "output_type": "stream",
     "text": [
      "<class 'pandas.core.frame.DataFrame'>\n",
      "RangeIndex: 70283 entries, 0 to 70282\n",
      "Data columns (total 9 columns):\n",
      " #   Column           Non-Null Count  Dtype  \n",
      "---  ------           --------------  -----  \n",
      " 0   user             70283 non-null  int64  \n",
      " 1   fraud            70283 non-null  int64  \n",
      " 2   email_domain     70283 non-null  object \n",
      " 3   ip_asn           70283 non-null  int64  \n",
      " 4   signup_datetime  70283 non-null  object \n",
      " 5   gender           70021 non-null  float64\n",
      " 6   marital          70282 non-null  object \n",
      " 7   employment       70272 non-null  object \n",
      " 8   pet              70271 non-null  object \n",
      "dtypes: float64(1), int64(3), object(5)\n",
      "memory usage: 4.8+ MB\n"
     ]
    }
   ],
   "source": [
    "profile_df.info()"
   ]
  },
  {
   "cell_type": "code",
   "execution_count": 8,
   "metadata": {},
   "outputs": [],
   "source": [
    "# we have a few missing values here, so we will delete them all.\n",
    "\n",
    "profile_df = profile_df.dropna()"
   ]
  },
  {
   "cell_type": "code",
   "execution_count": 9,
   "metadata": {},
   "outputs": [],
   "source": [
    "# remove duplicate lines as well.\n",
    "\n",
    "profile_df = profile_df.drop_duplicates()"
   ]
  },
  {
   "cell_type": "code",
   "execution_count": 10,
   "metadata": {},
   "outputs": [
    {
     "name": "stdout",
     "output_type": "stream",
     "text": [
      "<class 'pandas.core.frame.DataFrame'>\n",
      "Int64Index: 69995 entries, 0 to 70282\n",
      "Data columns (total 9 columns):\n",
      " #   Column           Non-Null Count  Dtype  \n",
      "---  ------           --------------  -----  \n",
      " 0   user             69995 non-null  int64  \n",
      " 1   fraud            69995 non-null  int64  \n",
      " 2   email_domain     69995 non-null  object \n",
      " 3   ip_asn           69995 non-null  int64  \n",
      " 4   signup_datetime  69995 non-null  object \n",
      " 5   gender           69995 non-null  float64\n",
      " 6   marital          69995 non-null  object \n",
      " 7   employment       69995 non-null  object \n",
      " 8   pet              69995 non-null  object \n",
      "dtypes: float64(1), int64(3), object(5)\n",
      "memory usage: 5.3+ MB\n"
     ]
    }
   ],
   "source": [
    "profile_df.info()"
   ]
  },
  {
   "cell_type": "code",
   "execution_count": 79,
   "metadata": {},
   "outputs": [
    {
     "data": {
      "text/html": [
       "<div>\n",
       "<style scoped>\n",
       "    .dataframe tbody tr th:only-of-type {\n",
       "        vertical-align: middle;\n",
       "    }\n",
       "\n",
       "    .dataframe tbody tr th {\n",
       "        vertical-align: top;\n",
       "    }\n",
       "\n",
       "    .dataframe thead th {\n",
       "        text-align: right;\n",
       "    }\n",
       "</style>\n",
       "<table border=\"1\" class=\"dataframe\">\n",
       "  <thead>\n",
       "    <tr style=\"text-align: right;\">\n",
       "      <th></th>\n",
       "      <th>user</th>\n",
       "      <th>click_time</th>\n",
       "      <th>length_of_activity_in_minutes</th>\n",
       "      <th>promised_reward</th>\n",
       "      <th>ip_asn</th>\n",
       "      <th>postback_time</th>\n",
       "      <th>activity_status</th>\n",
       "      <th>gained_reward</th>\n",
       "    </tr>\n",
       "  </thead>\n",
       "  <tbody>\n",
       "    <tr>\n",
       "      <th>0</th>\n",
       "      <td>1000000</td>\n",
       "      <td>2020-05-03 17:33:15</td>\n",
       "      <td>25.0</td>\n",
       "      <td>12300.0</td>\n",
       "      <td>11202</td>\n",
       "      <td>2020-05-03 17:33:50</td>\n",
       "      <td>rejection_type_2</td>\n",
       "      <td>369.0</td>\n",
       "    </tr>\n",
       "    <tr>\n",
       "      <th>1</th>\n",
       "      <td>1000000</td>\n",
       "      <td>2020-05-03 17:33:50</td>\n",
       "      <td>25.0</td>\n",
       "      <td>12300.0</td>\n",
       "      <td>11202</td>\n",
       "      <td>NaN</td>\n",
       "      <td>NaN</td>\n",
       "      <td>NaN</td>\n",
       "    </tr>\n",
       "    <tr>\n",
       "      <th>2</th>\n",
       "      <td>1000002</td>\n",
       "      <td>2020-05-03 17:34:02</td>\n",
       "      <td>25.0</td>\n",
       "      <td>12300.0</td>\n",
       "      <td>11678</td>\n",
       "      <td>2020-05-03 17:34:40</td>\n",
       "      <td>rejection_type_2</td>\n",
       "      <td>369.0</td>\n",
       "    </tr>\n",
       "    <tr>\n",
       "      <th>3</th>\n",
       "      <td>1000007</td>\n",
       "      <td>2020-05-03 17:34:12</td>\n",
       "      <td>25.0</td>\n",
       "      <td>6150.0</td>\n",
       "      <td>10066</td>\n",
       "      <td>NaN</td>\n",
       "      <td>NaN</td>\n",
       "      <td>NaN</td>\n",
       "    </tr>\n",
       "    <tr>\n",
       "      <th>4</th>\n",
       "      <td>1000002</td>\n",
       "      <td>2020-05-03 17:34:40</td>\n",
       "      <td>25.0</td>\n",
       "      <td>12300.0</td>\n",
       "      <td>11678</td>\n",
       "      <td>NaN</td>\n",
       "      <td>NaN</td>\n",
       "      <td>NaN</td>\n",
       "    </tr>\n",
       "  </tbody>\n",
       "</table>\n",
       "</div>"
      ],
      "text/plain": [
       "      user           click_time  length_of_activity_in_minutes  \\\n",
       "0  1000000  2020-05-03 17:33:15                           25.0   \n",
       "1  1000000  2020-05-03 17:33:50                           25.0   \n",
       "2  1000002  2020-05-03 17:34:02                           25.0   \n",
       "3  1000007  2020-05-03 17:34:12                           25.0   \n",
       "4  1000002  2020-05-03 17:34:40                           25.0   \n",
       "\n",
       "   promised_reward  ip_asn        postback_time   activity_status  \\\n",
       "0          12300.0   11202  2020-05-03 17:33:50  rejection_type_2   \n",
       "1          12300.0   11202                  NaN               NaN   \n",
       "2          12300.0   11678  2020-05-03 17:34:40  rejection_type_2   \n",
       "3           6150.0   10066                  NaN               NaN   \n",
       "4          12300.0   11678                  NaN               NaN   \n",
       "\n",
       "   gained_reward  \n",
       "0          369.0  \n",
       "1            NaN  \n",
       "2          369.0  \n",
       "3            NaN  \n",
       "4            NaN  "
      ]
     },
     "execution_count": 79,
     "metadata": {},
     "output_type": "execute_result"
    }
   ],
   "source": [
    "behavior_df.head()"
   ]
  },
  {
   "cell_type": "code",
   "execution_count": null,
   "metadata": {},
   "outputs": [],
   "source": []
  },
  {
   "cell_type": "code",
   "execution_count": 12,
   "metadata": {},
   "outputs": [],
   "source": [
    "# here, we will remove the missing values for important columns in order to lose less information,  \n",
    "# instead of deleting it in all of the columns.\n",
    "\n",
    "behavior_df = behavior_df.dropna(subset = ['user', 'click_time', 'length_of_activity_in_minutes', \n",
    "                                           'promised_reward', 'gained_reward'])"
   ]
  },
  {
   "cell_type": "code",
   "execution_count": 13,
   "metadata": {},
   "outputs": [],
   "source": [
    "behavior_df = behavior_df.drop_duplicates()"
   ]
  },
  {
   "cell_type": "code",
   "execution_count": 14,
   "metadata": {},
   "outputs": [
    {
     "name": "stdout",
     "output_type": "stream",
     "text": [
      "<class 'pandas.core.frame.DataFrame'>\n",
      "Int64Index: 1801354 entries, 0 to 4326279\n",
      "Data columns (total 8 columns):\n",
      " #   Column                         Dtype  \n",
      "---  ------                         -----  \n",
      " 0   user                           int64  \n",
      " 1   click_time                     object \n",
      " 2   length_of_activity_in_minutes  float64\n",
      " 3   promised_reward                float64\n",
      " 4   ip_asn                         int64  \n",
      " 5   postback_time                  object \n",
      " 6   activity_status                object \n",
      " 7   gained_reward                  float64\n",
      "dtypes: float64(3), int64(2), object(3)\n",
      "memory usage: 123.7+ MB\n"
     ]
    }
   ],
   "source": [
    "behavior_df.info()"
   ]
  },
  {
   "cell_type": "code",
   "execution_count": 15,
   "metadata": {},
   "outputs": [],
   "source": [
    "# transfer the columns containing the date to the correct form.\n",
    "\n",
    "behavior_df['postback_time'] = pd.to_datetime(behavior_df[\"postback_time\"])\n",
    "\n",
    "behavior_df['click_time'] = pd.to_datetime(behavior_df[\"click_time\"])"
   ]
  },
  {
   "cell_type": "code",
   "execution_count": 16,
   "metadata": {},
   "outputs": [],
   "source": [
    "# create a new column for the duration of user activity in seconds.\n",
    "\n",
    "behavior_df['activity_duration'] = behavior_df['postback_time'] - behavior_df['click_time']\n",
    "\n",
    "behavior_df['activity_duration'] = behavior_df['activity_duration'].dt.total_seconds()"
   ]
  },
  {
   "cell_type": "code",
   "execution_count": 17,
   "metadata": {},
   "outputs": [],
   "source": [
    "# remove the original columns because they will correlate very strongly with the new one.\n",
    "\n",
    "behavior_df.drop(['click_time', \"postback_time\"], axis=1, inplace=True)"
   ]
  },
  {
   "cell_type": "code",
   "execution_count": 18,
   "metadata": {},
   "outputs": [],
   "source": [
    "# we will also delete the ip addresses because they have no numerical meaning and there are too \n",
    "# many of them as categories.\n",
    "\n",
    "behavior_df.drop('ip_asn', axis=1, inplace=True)\n",
    "\n",
    "profile_df.drop('ip_asn', axis=1, inplace=True)"
   ]
  },
  {
   "cell_type": "code",
   "execution_count": null,
   "metadata": {},
   "outputs": [],
   "source": []
  },
  {
   "cell_type": "code",
   "execution_count": null,
   "metadata": {},
   "outputs": [],
   "source": []
  },
  {
   "cell_type": "code",
   "execution_count": 19,
   "metadata": {},
   "outputs": [],
   "source": [
    "# we will encode all our categorical features into a number, but set their type to categorical \n",
    "# so that our model does not compare them by greater or smaller.\n",
    "\n",
    "activity_status_mapping = {'rejection_type_1': 1, 'rejection_type_2': 2, 'rejection_type_3': 3, \n",
    "                           'rejection_type_4': 4, 'rejection_type_5': 5, 'successfull': 6}\n",
    "\n",
    "behavior_df['activity_status'] = behavior_df['activity_status'].map(activity_status_mapping)\n",
    "\n",
    "behavior_df['activity_status'] = behavior_df['activity_status'].astype('category')\n",
    "\n",
    "\n",
    "\n",
    "email_domain_mapping = {'a': 1, 'b': 2, 'c': 3, 'd': 4, 'e': 5, 'f': 6, 'g': 7}\n",
    "\n",
    "profile_df['email_domain'] = profile_df['email_domain'].map(email_domain_mapping)\n",
    "\n",
    "profile_df['email_domain'] = profile_df['email_domain'].astype('category')\n",
    "\n",
    "\n",
    "\n",
    "marital_mapping = {'Single': 0, 'Married': 1, 'Divorced': 2}\n",
    "\n",
    "profile_df['marital'] = profile_df['marital'].map(marital_mapping)\n",
    "\n",
    "profile_df['marital'] = profile_df['marital'].astype('category')\n",
    "\n",
    "\n",
    "\n",
    "employment_mapping = {'i': 1, 'd': 2, 'f': 3, 'b': 4, 'c': 5, 'k': 6, 'g': 7, 'h': 8, 'e': 9, 'a': 10, 'j': 11}\n",
    "\n",
    "profile_df['employment'] = profile_df['employment'].map(employment_mapping)\n",
    "\n",
    "profile_df['employment'] = profile_df['employment'].astype('category')\n",
    "\n",
    "\n",
    "profile_df['gender'] = profile_df['gender'].astype('int')\n",
    "\n",
    "profile_df['gender'] = profile_df['gender'].astype('category')\n",
    "\n",
    "\n",
    "\n",
    "profile_df['fraud'] = profile_df['fraud'].astype('category')"
   ]
  },
  {
   "cell_type": "code",
   "execution_count": 20,
   "metadata": {},
   "outputs": [],
   "source": [
    "# remove unnecessary characters from 'pet' and also convert to categories.\n",
    "\n",
    "profile_df['pet'] = profile_df['pet'].str.strip(\"[], '\")\n",
    "\n",
    "profile_df['pet'] = profile_df['pet'].apply(lambda pet: 0 if pet == 'No pets' else 1)\n",
    "\n",
    "profile_df['pet'] = profile_df['pet'].astype('category')"
   ]
  },
  {
   "cell_type": "code",
   "execution_count": null,
   "metadata": {},
   "outputs": [],
   "source": []
  },
  {
   "cell_type": "code",
   "execution_count": 21,
   "metadata": {},
   "outputs": [
    {
     "data": {
      "text/html": [
       "<div>\n",
       "<style scoped>\n",
       "    .dataframe tbody tr th:only-of-type {\n",
       "        vertical-align: middle;\n",
       "    }\n",
       "\n",
       "    .dataframe tbody tr th {\n",
       "        vertical-align: top;\n",
       "    }\n",
       "\n",
       "    .dataframe thead th {\n",
       "        text-align: right;\n",
       "    }\n",
       "</style>\n",
       "<table border=\"1\" class=\"dataframe\">\n",
       "  <thead>\n",
       "    <tr style=\"text-align: right;\">\n",
       "      <th></th>\n",
       "      <th>user</th>\n",
       "      <th>fraud</th>\n",
       "      <th>email_domain</th>\n",
       "      <th>signup_datetime</th>\n",
       "      <th>gender</th>\n",
       "      <th>marital</th>\n",
       "      <th>employment</th>\n",
       "      <th>pet</th>\n",
       "    </tr>\n",
       "  </thead>\n",
       "  <tbody>\n",
       "    <tr>\n",
       "      <th>0</th>\n",
       "      <td>1000000</td>\n",
       "      <td>0</td>\n",
       "      <td>3</td>\n",
       "      <td>2020-05-03 17:29:33</td>\n",
       "      <td>1</td>\n",
       "      <td>1</td>\n",
       "      <td>1</td>\n",
       "      <td>0</td>\n",
       "    </tr>\n",
       "    <tr>\n",
       "      <th>1</th>\n",
       "      <td>1000015</td>\n",
       "      <td>0</td>\n",
       "      <td>6</td>\n",
       "      <td>2020-05-03 17:32:33</td>\n",
       "      <td>1</td>\n",
       "      <td>1</td>\n",
       "      <td>2</td>\n",
       "      <td>1</td>\n",
       "    </tr>\n",
       "    <tr>\n",
       "      <th>2</th>\n",
       "      <td>1000019</td>\n",
       "      <td>0</td>\n",
       "      <td>3</td>\n",
       "      <td>2020-05-03 17:33:52</td>\n",
       "      <td>1</td>\n",
       "      <td>0</td>\n",
       "      <td>3</td>\n",
       "      <td>0</td>\n",
       "    </tr>\n",
       "    <tr>\n",
       "      <th>3</th>\n",
       "      <td>1000045</td>\n",
       "      <td>0</td>\n",
       "      <td>3</td>\n",
       "      <td>2020-05-03 17:37:58</td>\n",
       "      <td>1</td>\n",
       "      <td>1</td>\n",
       "      <td>3</td>\n",
       "      <td>0</td>\n",
       "    </tr>\n",
       "    <tr>\n",
       "      <th>4</th>\n",
       "      <td>1000076</td>\n",
       "      <td>0</td>\n",
       "      <td>3</td>\n",
       "      <td>2020-05-03 17:42:42</td>\n",
       "      <td>0</td>\n",
       "      <td>0</td>\n",
       "      <td>4</td>\n",
       "      <td>0</td>\n",
       "    </tr>\n",
       "  </tbody>\n",
       "</table>\n",
       "</div>"
      ],
      "text/plain": [
       "      user fraud email_domain      signup_datetime gender marital employment  \\\n",
       "0  1000000     0            3  2020-05-03 17:29:33      1       1          1   \n",
       "1  1000015     0            6  2020-05-03 17:32:33      1       1          2   \n",
       "2  1000019     0            3  2020-05-03 17:33:52      1       0          3   \n",
       "3  1000045     0            3  2020-05-03 17:37:58      1       1          3   \n",
       "4  1000076     0            3  2020-05-03 17:42:42      0       0          4   \n",
       "\n",
       "  pet  \n",
       "0   0  \n",
       "1   1  \n",
       "2   0  \n",
       "3   0  \n",
       "4   0  "
      ]
     },
     "execution_count": 21,
     "metadata": {},
     "output_type": "execute_result"
    }
   ],
   "source": [
    "profile_df.head()"
   ]
  },
  {
   "cell_type": "code",
   "execution_count": 22,
   "metadata": {},
   "outputs": [
    {
     "name": "stdout",
     "output_type": "stream",
     "text": [
      "<class 'pandas.core.frame.DataFrame'>\n",
      "Int64Index: 69995 entries, 0 to 70282\n",
      "Data columns (total 8 columns):\n",
      " #   Column           Non-Null Count  Dtype   \n",
      "---  ------           --------------  -----   \n",
      " 0   user             69995 non-null  int64   \n",
      " 1   fraud            69995 non-null  category\n",
      " 2   email_domain     69995 non-null  category\n",
      " 3   signup_datetime  69995 non-null  object  \n",
      " 4   gender           69995 non-null  category\n",
      " 5   marital          69995 non-null  category\n",
      " 6   employment       69995 non-null  category\n",
      " 7   pet              69995 non-null  category\n",
      "dtypes: category(6), int64(1), object(1)\n",
      "memory usage: 2.0+ MB\n"
     ]
    }
   ],
   "source": [
    "profile_df.info()"
   ]
  },
  {
   "cell_type": "code",
   "execution_count": null,
   "metadata": {},
   "outputs": [],
   "source": []
  },
  {
   "cell_type": "code",
   "execution_count": 23,
   "metadata": {},
   "outputs": [],
   "source": [
    "# now we will group our dataframe by the user column and aggregate it with the average of our quantitative data.\n",
    "\n",
    "behavior_df = behavior_df.groupby('user')['length_of_activity_in_minutes', 'promised_reward',   \n",
    "                                          'gained_reward', 'activity_duration'].agg('mean')"
   ]
  },
  {
   "cell_type": "code",
   "execution_count": null,
   "metadata": {},
   "outputs": [],
   "source": []
  },
  {
   "cell_type": "code",
   "execution_count": 24,
   "metadata": {},
   "outputs": [],
   "source": [
    "# now we can merge our dataframes by unique user.\n",
    "\n",
    "df = profile_df.merge(behavior_df, on='user', how='inner')"
   ]
  },
  {
   "cell_type": "code",
   "execution_count": null,
   "metadata": {},
   "outputs": [],
   "source": []
  },
  {
   "cell_type": "code",
   "execution_count": 25,
   "metadata": {},
   "outputs": [],
   "source": [
    "# we can now delete the 'user' and 'signup_datetime' columns since they are unique \n",
    "# and have no numerical meaning.\n",
    "\n",
    "df.drop(['user', 'signup_datetime'], axis=1, inplace=True)"
   ]
  },
  {
   "cell_type": "code",
   "execution_count": null,
   "metadata": {},
   "outputs": [],
   "source": []
  },
  {
   "cell_type": "code",
   "execution_count": 26,
   "metadata": {},
   "outputs": [
    {
     "data": {
      "text/html": [
       "<div>\n",
       "<style scoped>\n",
       "    .dataframe tbody tr th:only-of-type {\n",
       "        vertical-align: middle;\n",
       "    }\n",
       "\n",
       "    .dataframe tbody tr th {\n",
       "        vertical-align: top;\n",
       "    }\n",
       "\n",
       "    .dataframe thead th {\n",
       "        text-align: right;\n",
       "    }\n",
       "</style>\n",
       "<table border=\"1\" class=\"dataframe\">\n",
       "  <thead>\n",
       "    <tr style=\"text-align: right;\">\n",
       "      <th></th>\n",
       "      <th>fraud</th>\n",
       "      <th>email_domain</th>\n",
       "      <th>gender</th>\n",
       "      <th>marital</th>\n",
       "      <th>employment</th>\n",
       "      <th>pet</th>\n",
       "      <th>length_of_activity_in_minutes</th>\n",
       "      <th>promised_reward</th>\n",
       "      <th>gained_reward</th>\n",
       "      <th>activity_duration</th>\n",
       "    </tr>\n",
       "  </thead>\n",
       "  <tbody>\n",
       "    <tr>\n",
       "      <th>0</th>\n",
       "      <td>0</td>\n",
       "      <td>3</td>\n",
       "      <td>1</td>\n",
       "      <td>1</td>\n",
       "      <td>1</td>\n",
       "      <td>0</td>\n",
       "      <td>25.000000</td>\n",
       "      <td>12300.00</td>\n",
       "      <td>369.0</td>\n",
       "      <td>35.00</td>\n",
       "    </tr>\n",
       "    <tr>\n",
       "      <th>1</th>\n",
       "      <td>0</td>\n",
       "      <td>6</td>\n",
       "      <td>1</td>\n",
       "      <td>1</td>\n",
       "      <td>2</td>\n",
       "      <td>1</td>\n",
       "      <td>13.500000</td>\n",
       "      <td>10301.25</td>\n",
       "      <td>3505.5</td>\n",
       "      <td>577.75</td>\n",
       "    </tr>\n",
       "    <tr>\n",
       "      <th>2</th>\n",
       "      <td>0</td>\n",
       "      <td>3</td>\n",
       "      <td>1</td>\n",
       "      <td>0</td>\n",
       "      <td>3</td>\n",
       "      <td>0</td>\n",
       "      <td>25.000000</td>\n",
       "      <td>12300.00</td>\n",
       "      <td>0.0</td>\n",
       "      <td>12.00</td>\n",
       "    </tr>\n",
       "    <tr>\n",
       "      <th>3</th>\n",
       "      <td>0</td>\n",
       "      <td>3</td>\n",
       "      <td>1</td>\n",
       "      <td>1</td>\n",
       "      <td>3</td>\n",
       "      <td>0</td>\n",
       "      <td>25.000000</td>\n",
       "      <td>12300.00</td>\n",
       "      <td>369.0</td>\n",
       "      <td>56.00</td>\n",
       "    </tr>\n",
       "    <tr>\n",
       "      <th>4</th>\n",
       "      <td>0</td>\n",
       "      <td>3</td>\n",
       "      <td>0</td>\n",
       "      <td>0</td>\n",
       "      <td>4</td>\n",
       "      <td>0</td>\n",
       "      <td>12.333333</td>\n",
       "      <td>9430.00</td>\n",
       "      <td>328.0</td>\n",
       "      <td>276.00</td>\n",
       "    </tr>\n",
       "  </tbody>\n",
       "</table>\n",
       "</div>"
      ],
      "text/plain": [
       "  fraud email_domain gender marital employment pet  \\\n",
       "0     0            3      1       1          1   0   \n",
       "1     0            6      1       1          2   1   \n",
       "2     0            3      1       0          3   0   \n",
       "3     0            3      1       1          3   0   \n",
       "4     0            3      0       0          4   0   \n",
       "\n",
       "   length_of_activity_in_minutes  promised_reward  gained_reward  \\\n",
       "0                      25.000000         12300.00          369.0   \n",
       "1                      13.500000         10301.25         3505.5   \n",
       "2                      25.000000         12300.00            0.0   \n",
       "3                      25.000000         12300.00          369.0   \n",
       "4                      12.333333          9430.00          328.0   \n",
       "\n",
       "   activity_duration  \n",
       "0              35.00  \n",
       "1             577.75  \n",
       "2              12.00  \n",
       "3              56.00  \n",
       "4             276.00  "
      ]
     },
     "execution_count": 26,
     "metadata": {},
     "output_type": "execute_result"
    }
   ],
   "source": [
    "df.head()"
   ]
  },
  {
   "cell_type": "code",
   "execution_count": null,
   "metadata": {},
   "outputs": [],
   "source": []
  },
  {
   "cell_type": "code",
   "execution_count": 27,
   "metadata": {},
   "outputs": [
    {
     "name": "stdout",
     "output_type": "stream",
     "text": [
      "<class 'pandas.core.frame.DataFrame'>\n",
      "Int64Index: 49102 entries, 0 to 49101\n",
      "Data columns (total 10 columns):\n",
      " #   Column                         Non-Null Count  Dtype   \n",
      "---  ------                         --------------  -----   \n",
      " 0   fraud                          49102 non-null  category\n",
      " 1   email_domain                   49102 non-null  category\n",
      " 2   gender                         49102 non-null  category\n",
      " 3   marital                        49102 non-null  category\n",
      " 4   employment                     49102 non-null  category\n",
      " 5   pet                            49102 non-null  category\n",
      " 6   length_of_activity_in_minutes  49102 non-null  float64 \n",
      " 7   promised_reward                49102 non-null  float64 \n",
      " 8   gained_reward                  49102 non-null  float64 \n",
      " 9   activity_duration              49102 non-null  float64 \n",
      "dtypes: category(6), float64(4)\n",
      "memory usage: 2.2 MB\n"
     ]
    }
   ],
   "source": [
    "df.info()"
   ]
  },
  {
   "cell_type": "code",
   "execution_count": null,
   "metadata": {},
   "outputs": [],
   "source": []
  },
  {
   "cell_type": "code",
   "execution_count": 28,
   "metadata": {},
   "outputs": [],
   "source": [
    "# now we will separate our features and target variables.\n",
    "\n",
    "X = df.drop('fraud', axis=1)\n",
    "\n",
    "y = df[['fraud']]"
   ]
  },
  {
   "cell_type": "code",
   "execution_count": null,
   "metadata": {},
   "outputs": [],
   "source": []
  },
  {
   "cell_type": "code",
   "execution_count": 29,
   "metadata": {},
   "outputs": [
    {
     "data": {
      "text/html": [
       "<div>\n",
       "<style scoped>\n",
       "    .dataframe tbody tr th:only-of-type {\n",
       "        vertical-align: middle;\n",
       "    }\n",
       "\n",
       "    .dataframe tbody tr th {\n",
       "        vertical-align: top;\n",
       "    }\n",
       "\n",
       "    .dataframe thead th {\n",
       "        text-align: right;\n",
       "    }\n",
       "</style>\n",
       "<table border=\"1\" class=\"dataframe\">\n",
       "  <thead>\n",
       "    <tr style=\"text-align: right;\">\n",
       "      <th></th>\n",
       "      <th>length_of_activity_in_minutes</th>\n",
       "      <th>promised_reward</th>\n",
       "      <th>gained_reward</th>\n",
       "      <th>activity_duration</th>\n",
       "    </tr>\n",
       "  </thead>\n",
       "  <tbody>\n",
       "    <tr>\n",
       "      <th>count</th>\n",
       "      <td>49102.000000</td>\n",
       "      <td>49102.000000</td>\n",
       "      <td>49102.000000</td>\n",
       "      <td>49102.000000</td>\n",
       "    </tr>\n",
       "    <tr>\n",
       "      <th>mean</th>\n",
       "      <td>14.691641</td>\n",
       "      <td>9407.008667</td>\n",
       "      <td>1039.013223</td>\n",
       "      <td>330.305058</td>\n",
       "    </tr>\n",
       "    <tr>\n",
       "      <th>std</th>\n",
       "      <td>7.670005</td>\n",
       "      <td>5716.838070</td>\n",
       "      <td>1501.908947</td>\n",
       "      <td>3515.478690</td>\n",
       "    </tr>\n",
       "    <tr>\n",
       "      <th>min</th>\n",
       "      <td>0.000000</td>\n",
       "      <td>0.000000</td>\n",
       "      <td>0.000000</td>\n",
       "      <td>0.000000</td>\n",
       "    </tr>\n",
       "    <tr>\n",
       "      <th>25%</th>\n",
       "      <td>11.600000</td>\n",
       "      <td>6501.428571</td>\n",
       "      <td>246.000000</td>\n",
       "      <td>73.000000</td>\n",
       "    </tr>\n",
       "    <tr>\n",
       "      <th>50%</th>\n",
       "      <td>14.250000</td>\n",
       "      <td>8302.500000</td>\n",
       "      <td>421.714286</td>\n",
       "      <td>164.109441</td>\n",
       "    </tr>\n",
       "    <tr>\n",
       "      <th>75%</th>\n",
       "      <td>17.000000</td>\n",
       "      <td>10703.850684</td>\n",
       "      <td>1373.500000</td>\n",
       "      <td>314.638929</td>\n",
       "    </tr>\n",
       "    <tr>\n",
       "      <th>max</th>\n",
       "      <td>420.000000</td>\n",
       "      <td>184500.000000</td>\n",
       "      <td>55350.000000</td>\n",
       "      <td>683915.000000</td>\n",
       "    </tr>\n",
       "  </tbody>\n",
       "</table>\n",
       "</div>"
      ],
      "text/plain": [
       "       length_of_activity_in_minutes  promised_reward  gained_reward  \\\n",
       "count                   49102.000000     49102.000000   49102.000000   \n",
       "mean                       14.691641      9407.008667    1039.013223   \n",
       "std                         7.670005      5716.838070    1501.908947   \n",
       "min                         0.000000         0.000000       0.000000   \n",
       "25%                        11.600000      6501.428571     246.000000   \n",
       "50%                        14.250000      8302.500000     421.714286   \n",
       "75%                        17.000000     10703.850684    1373.500000   \n",
       "max                       420.000000    184500.000000   55350.000000   \n",
       "\n",
       "       activity_duration  \n",
       "count       49102.000000  \n",
       "mean          330.305058  \n",
       "std          3515.478690  \n",
       "min             0.000000  \n",
       "25%            73.000000  \n",
       "50%           164.109441  \n",
       "75%           314.638929  \n",
       "max        683915.000000  "
      ]
     },
     "execution_count": 29,
     "metadata": {},
     "output_type": "execute_result"
    }
   ],
   "source": [
    "# let's look at our feature distribution.\n",
    "\n",
    "# here you can see that we have a large standard deviation from the mean for our continuous variables.\n",
    "\n",
    "X.describe()"
   ]
  },
  {
   "cell_type": "code",
   "execution_count": null,
   "metadata": {},
   "outputs": [],
   "source": []
  },
  {
   "cell_type": "code",
   "execution_count": 30,
   "metadata": {},
   "outputs": [],
   "source": [
    "# normalize our training data close to a Gaussian distribution with 0 mean and unit variance.\n",
    "\n",
    "scaler = StandardScaler()\n",
    "\n",
    "scaled_features = X.copy()\n",
    "\n",
    "col_names = ['length_of_activity_in_minutes', 'promised_reward', 'gained_reward', 'activity_duration']\n",
    "features = scaled_features[col_names]\n",
    "scaler = scaler.fit(features.values)\n",
    "features = scaler.transform(features.values)\n",
    "\n",
    "X[col_names] = features"
   ]
  },
  {
   "cell_type": "code",
   "execution_count": null,
   "metadata": {},
   "outputs": [],
   "source": []
  },
  {
   "cell_type": "code",
   "execution_count": 31,
   "metadata": {},
   "outputs": [
    {
     "data": {
      "text/html": [
       "<div>\n",
       "<style scoped>\n",
       "    .dataframe tbody tr th:only-of-type {\n",
       "        vertical-align: middle;\n",
       "    }\n",
       "\n",
       "    .dataframe tbody tr th {\n",
       "        vertical-align: top;\n",
       "    }\n",
       "\n",
       "    .dataframe thead th {\n",
       "        text-align: right;\n",
       "    }\n",
       "</style>\n",
       "<table border=\"1\" class=\"dataframe\">\n",
       "  <thead>\n",
       "    <tr style=\"text-align: right;\">\n",
       "      <th></th>\n",
       "      <th>email_domain</th>\n",
       "      <th>gender</th>\n",
       "      <th>marital</th>\n",
       "      <th>employment</th>\n",
       "      <th>pet</th>\n",
       "      <th>length_of_activity_in_minutes</th>\n",
       "      <th>promised_reward</th>\n",
       "      <th>gained_reward</th>\n",
       "      <th>activity_duration</th>\n",
       "    </tr>\n",
       "  </thead>\n",
       "  <tbody>\n",
       "    <tr>\n",
       "      <th>0</th>\n",
       "      <td>3</td>\n",
       "      <td>1</td>\n",
       "      <td>1</td>\n",
       "      <td>1</td>\n",
       "      <td>0</td>\n",
       "      <td>1.343997</td>\n",
       "      <td>0.506053</td>\n",
       "      <td>-0.446112</td>\n",
       "      <td>-0.084002</td>\n",
       "    </tr>\n",
       "    <tr>\n",
       "      <th>1</th>\n",
       "      <td>6</td>\n",
       "      <td>1</td>\n",
       "      <td>1</td>\n",
       "      <td>2</td>\n",
       "      <td>1</td>\n",
       "      <td>-0.155365</td>\n",
       "      <td>0.156424</td>\n",
       "      <td>1.642251</td>\n",
       "      <td>0.070388</td>\n",
       "    </tr>\n",
       "    <tr>\n",
       "      <th>2</th>\n",
       "      <td>3</td>\n",
       "      <td>1</td>\n",
       "      <td>0</td>\n",
       "      <td>3</td>\n",
       "      <td>0</td>\n",
       "      <td>1.343997</td>\n",
       "      <td>0.506053</td>\n",
       "      <td>-0.691802</td>\n",
       "      <td>-0.090545</td>\n",
       "    </tr>\n",
       "    <tr>\n",
       "      <th>3</th>\n",
       "      <td>3</td>\n",
       "      <td>1</td>\n",
       "      <td>1</td>\n",
       "      <td>3</td>\n",
       "      <td>0</td>\n",
       "      <td>1.343997</td>\n",
       "      <td>0.506053</td>\n",
       "      <td>-0.446112</td>\n",
       "      <td>-0.078029</td>\n",
       "    </tr>\n",
       "    <tr>\n",
       "      <th>4</th>\n",
       "      <td>3</td>\n",
       "      <td>0</td>\n",
       "      <td>0</td>\n",
       "      <td>4</td>\n",
       "      <td>0</td>\n",
       "      <td>-0.307475</td>\n",
       "      <td>0.004022</td>\n",
       "      <td>-0.473411</td>\n",
       "      <td>-0.015448</td>\n",
       "    </tr>\n",
       "  </tbody>\n",
       "</table>\n",
       "</div>"
      ],
      "text/plain": [
       "  email_domain gender marital employment pet  length_of_activity_in_minutes  \\\n",
       "0            3      1       1          1   0                       1.343997   \n",
       "1            6      1       1          2   1                      -0.155365   \n",
       "2            3      1       0          3   0                       1.343997   \n",
       "3            3      1       1          3   0                       1.343997   \n",
       "4            3      0       0          4   0                      -0.307475   \n",
       "\n",
       "   promised_reward  gained_reward  activity_duration  \n",
       "0         0.506053      -0.446112          -0.084002  \n",
       "1         0.156424       1.642251           0.070388  \n",
       "2         0.506053      -0.691802          -0.090545  \n",
       "3         0.506053      -0.446112          -0.078029  \n",
       "4         0.004022      -0.473411          -0.015448  "
      ]
     },
     "execution_count": 31,
     "metadata": {},
     "output_type": "execute_result"
    }
   ],
   "source": [
    "X.head()"
   ]
  },
  {
   "cell_type": "code",
   "execution_count": 32,
   "metadata": {},
   "outputs": [
    {
     "data": {
      "text/html": [
       "<div>\n",
       "<style scoped>\n",
       "    .dataframe tbody tr th:only-of-type {\n",
       "        vertical-align: middle;\n",
       "    }\n",
       "\n",
       "    .dataframe tbody tr th {\n",
       "        vertical-align: top;\n",
       "    }\n",
       "\n",
       "    .dataframe thead th {\n",
       "        text-align: right;\n",
       "    }\n",
       "</style>\n",
       "<table border=\"1\" class=\"dataframe\">\n",
       "  <thead>\n",
       "    <tr style=\"text-align: right;\">\n",
       "      <th></th>\n",
       "      <th>length_of_activity_in_minutes</th>\n",
       "      <th>promised_reward</th>\n",
       "      <th>gained_reward</th>\n",
       "      <th>activity_duration</th>\n",
       "    </tr>\n",
       "  </thead>\n",
       "  <tbody>\n",
       "    <tr>\n",
       "      <th>count</th>\n",
       "      <td>4.910200e+04</td>\n",
       "      <td>4.910200e+04</td>\n",
       "      <td>4.910200e+04</td>\n",
       "      <td>4.910200e+04</td>\n",
       "    </tr>\n",
       "    <tr>\n",
       "      <th>mean</th>\n",
       "      <td>1.996783e-16</td>\n",
       "      <td>2.825906e-16</td>\n",
       "      <td>3.578526e-16</td>\n",
       "      <td>-4.226476e-17</td>\n",
       "    </tr>\n",
       "    <tr>\n",
       "      <th>std</th>\n",
       "      <td>1.000010e+00</td>\n",
       "      <td>1.000010e+00</td>\n",
       "      <td>1.000010e+00</td>\n",
       "      <td>1.000010e+00</td>\n",
       "    </tr>\n",
       "    <tr>\n",
       "      <th>min</th>\n",
       "      <td>-1.915486e+00</td>\n",
       "      <td>-1.645508e+00</td>\n",
       "      <td>-6.918021e-01</td>\n",
       "      <td>-9.395831e-02</td>\n",
       "    </tr>\n",
       "    <tr>\n",
       "      <th>25%</th>\n",
       "      <td>-4.030861e-01</td>\n",
       "      <td>-5.082547e-01</td>\n",
       "      <td>-5.280089e-01</td>\n",
       "      <td>-7.319279e-02</td>\n",
       "    </tr>\n",
       "    <tr>\n",
       "      <th>50%</th>\n",
       "      <td>-5.758088e-02</td>\n",
       "      <td>-1.932047e-01</td>\n",
       "      <td>-4.110137e-01</td>\n",
       "      <td>-4.727587e-02</td>\n",
       "    </tr>\n",
       "    <tr>\n",
       "      <th>75%</th>\n",
       "      <td>3.009623e-01</td>\n",
       "      <td>2.268483e-01</td>\n",
       "      <td>2.227100e-01</td>\n",
       "      <td>-4.456374e-03</td>\n",
       "    </tr>\n",
       "    <tr>\n",
       "      <th>max</th>\n",
       "      <td>5.284383e+01</td>\n",
       "      <td>3.062791e+01</td>\n",
       "      <td>3.616167e+01</td>\n",
       "      <td>1.944519e+02</td>\n",
       "    </tr>\n",
       "  </tbody>\n",
       "</table>\n",
       "</div>"
      ],
      "text/plain": [
       "       length_of_activity_in_minutes  promised_reward  gained_reward  \\\n",
       "count                   4.910200e+04     4.910200e+04   4.910200e+04   \n",
       "mean                    1.996783e-16     2.825906e-16   3.578526e-16   \n",
       "std                     1.000010e+00     1.000010e+00   1.000010e+00   \n",
       "min                    -1.915486e+00    -1.645508e+00  -6.918021e-01   \n",
       "25%                    -4.030861e-01    -5.082547e-01  -5.280089e-01   \n",
       "50%                    -5.758088e-02    -1.932047e-01  -4.110137e-01   \n",
       "75%                     3.009623e-01     2.268483e-01   2.227100e-01   \n",
       "max                     5.284383e+01     3.062791e+01   3.616167e+01   \n",
       "\n",
       "       activity_duration  \n",
       "count       4.910200e+04  \n",
       "mean       -4.226476e-17  \n",
       "std         1.000010e+00  \n",
       "min        -9.395831e-02  \n",
       "25%        -7.319279e-02  \n",
       "50%        -4.727587e-02  \n",
       "75%        -4.456374e-03  \n",
       "max         1.944519e+02  "
      ]
     },
     "execution_count": 32,
     "metadata": {},
     "output_type": "execute_result"
    }
   ],
   "source": [
    "X.describe()"
   ]
  },
  {
   "cell_type": "code",
   "execution_count": null,
   "metadata": {},
   "outputs": [],
   "source": []
  },
  {
   "cell_type": "code",
   "execution_count": null,
   "metadata": {},
   "outputs": [],
   "source": []
  },
  {
   "cell_type": "code",
   "execution_count": 33,
   "metadata": {},
   "outputs": [
    {
     "data": {
      "text/html": [
       "<style  type=\"text/css\" >\n",
       "#T_b4d555a0_bbef_11eb_8f1b_0106ed15fcc1row0_col0,#T_b4d555a0_bbef_11eb_8f1b_0106ed15fcc1row1_col1,#T_b4d555a0_bbef_11eb_8f1b_0106ed15fcc1row2_col2,#T_b4d555a0_bbef_11eb_8f1b_0106ed15fcc1row3_col3{\n",
       "            background-color:  #023858;\n",
       "            color:  #f1f1f1;\n",
       "        }#T_b4d555a0_bbef_11eb_8f1b_0106ed15fcc1row0_col1{\n",
       "            background-color:  #1e80b8;\n",
       "            color:  #000000;\n",
       "        }#T_b4d555a0_bbef_11eb_8f1b_0106ed15fcc1row0_col2,#T_b4d555a0_bbef_11eb_8f1b_0106ed15fcc1row0_col3,#T_b4d555a0_bbef_11eb_8f1b_0106ed15fcc1row1_col3,#T_b4d555a0_bbef_11eb_8f1b_0106ed15fcc1row2_col0,#T_b4d555a0_bbef_11eb_8f1b_0106ed15fcc1row3_col1{\n",
       "            background-color:  #fff7fb;\n",
       "            color:  #000000;\n",
       "        }#T_b4d555a0_bbef_11eb_8f1b_0106ed15fcc1row1_col0{\n",
       "            background-color:  #1c7fb8;\n",
       "            color:  #000000;\n",
       "        }#T_b4d555a0_bbef_11eb_8f1b_0106ed15fcc1row1_col2{\n",
       "            background-color:  #fcf4fa;\n",
       "            color:  #000000;\n",
       "        }#T_b4d555a0_bbef_11eb_8f1b_0106ed15fcc1row2_col1{\n",
       "            background-color:  #fef6fb;\n",
       "            color:  #000000;\n",
       "        }#T_b4d555a0_bbef_11eb_8f1b_0106ed15fcc1row2_col3{\n",
       "            background-color:  #f5eef6;\n",
       "            color:  #000000;\n",
       "        }#T_b4d555a0_bbef_11eb_8f1b_0106ed15fcc1row3_col0{\n",
       "            background-color:  #fdf5fa;\n",
       "            color:  #000000;\n",
       "        }#T_b4d555a0_bbef_11eb_8f1b_0106ed15fcc1row3_col2{\n",
       "            background-color:  #f2ecf5;\n",
       "            color:  #000000;\n",
       "        }</style><table id=\"T_b4d555a0_bbef_11eb_8f1b_0106ed15fcc1\" ><thead>    <tr>        <th class=\"blank level0\" ></th>        <th class=\"col_heading level0 col0\" >length_of_activity_in_minutes</th>        <th class=\"col_heading level0 col1\" >promised_reward</th>        <th class=\"col_heading level0 col2\" >gained_reward</th>        <th class=\"col_heading level0 col3\" >activity_duration</th>    </tr></thead><tbody>\n",
       "                <tr>\n",
       "                        <th id=\"T_b4d555a0_bbef_11eb_8f1b_0106ed15fcc1level0_row0\" class=\"row_heading level0 row0\" >length_of_activity_in_minutes</th>\n",
       "                        <td id=\"T_b4d555a0_bbef_11eb_8f1b_0106ed15fcc1row0_col0\" class=\"data row0 col0\" >1.000000</td>\n",
       "                        <td id=\"T_b4d555a0_bbef_11eb_8f1b_0106ed15fcc1row0_col1\" class=\"data row0 col1\" >0.676620</td>\n",
       "                        <td id=\"T_b4d555a0_bbef_11eb_8f1b_0106ed15fcc1row0_col2\" class=\"data row0 col2\" >-0.045948</td>\n",
       "                        <td id=\"T_b4d555a0_bbef_11eb_8f1b_0106ed15fcc1row0_col3\" class=\"data row0 col3\" >-0.026824</td>\n",
       "            </tr>\n",
       "            <tr>\n",
       "                        <th id=\"T_b4d555a0_bbef_11eb_8f1b_0106ed15fcc1level0_row1\" class=\"row_heading level0 row1\" >promised_reward</th>\n",
       "                        <td id=\"T_b4d555a0_bbef_11eb_8f1b_0106ed15fcc1row1_col0\" class=\"data row1 col0\" >0.676620</td>\n",
       "                        <td id=\"T_b4d555a0_bbef_11eb_8f1b_0106ed15fcc1row1_col1\" class=\"data row1 col1\" >1.000000</td>\n",
       "                        <td id=\"T_b4d555a0_bbef_11eb_8f1b_0106ed15fcc1row1_col2\" class=\"data row1 col2\" >-0.021468</td>\n",
       "                        <td id=\"T_b4d555a0_bbef_11eb_8f1b_0106ed15fcc1row1_col3\" class=\"data row1 col3\" >-0.027760</td>\n",
       "            </tr>\n",
       "            <tr>\n",
       "                        <th id=\"T_b4d555a0_bbef_11eb_8f1b_0106ed15fcc1level0_row2\" class=\"row_heading level0 row2\" >gained_reward</th>\n",
       "                        <td id=\"T_b4d555a0_bbef_11eb_8f1b_0106ed15fcc1row2_col0\" class=\"data row2 col0\" >-0.045948</td>\n",
       "                        <td id=\"T_b4d555a0_bbef_11eb_8f1b_0106ed15fcc1row2_col1\" class=\"data row2 col1\" >-0.021468</td>\n",
       "                        <td id=\"T_b4d555a0_bbef_11eb_8f1b_0106ed15fcc1row2_col2\" class=\"data row2 col2\" >1.000000</td>\n",
       "                        <td id=\"T_b4d555a0_bbef_11eb_8f1b_0106ed15fcc1row2_col3\" class=\"data row2 col3\" >0.040993</td>\n",
       "            </tr>\n",
       "            <tr>\n",
       "                        <th id=\"T_b4d555a0_bbef_11eb_8f1b_0106ed15fcc1level0_row3\" class=\"row_heading level0 row3\" >activity_duration</th>\n",
       "                        <td id=\"T_b4d555a0_bbef_11eb_8f1b_0106ed15fcc1row3_col0\" class=\"data row3 col0\" >-0.026824</td>\n",
       "                        <td id=\"T_b4d555a0_bbef_11eb_8f1b_0106ed15fcc1row3_col1\" class=\"data row3 col1\" >-0.027760</td>\n",
       "                        <td id=\"T_b4d555a0_bbef_11eb_8f1b_0106ed15fcc1row3_col2\" class=\"data row3 col2\" >0.040993</td>\n",
       "                        <td id=\"T_b4d555a0_bbef_11eb_8f1b_0106ed15fcc1row3_col3\" class=\"data row3 col3\" >1.000000</td>\n",
       "            </tr>\n",
       "    </tbody></table>"
      ],
      "text/plain": [
       "<pandas.io.formats.style.Styler at 0x7f6c86bd3730>"
      ]
     },
     "execution_count": 33,
     "metadata": {},
     "output_type": "execute_result"
    }
   ],
   "source": [
    "# correlation matrix.\n",
    "corr_metrics = X.corr()\n",
    "corr_metrics.style.background_gradient()"
   ]
  },
  {
   "cell_type": "code",
   "execution_count": 34,
   "metadata": {},
   "outputs": [
    {
     "data": {
      "text/plain": [
       "(49102, 9)"
      ]
     },
     "execution_count": 34,
     "metadata": {},
     "output_type": "execute_result"
    }
   ],
   "source": [
    "X.shape"
   ]
  },
  {
   "cell_type": "code",
   "execution_count": null,
   "metadata": {},
   "outputs": [],
   "source": []
  },
  {
   "cell_type": "code",
   "execution_count": 35,
   "metadata": {},
   "outputs": [],
   "source": [
    "random_state = 42"
   ]
  },
  {
   "cell_type": "code",
   "execution_count": 36,
   "metadata": {},
   "outputs": [],
   "source": [
    "# we will divide the training and test datasets 1/5 with strotification by y so that both classes are present \n",
    "# in the training and testing datasets according to the same ratio.\n",
    "\n",
    "X_train, X_test, y_train, y_test = train_test_split(X, y, test_size=0.2, random_state=random_state, stratify=y)"
   ]
  },
  {
   "cell_type": "code",
   "execution_count": 37,
   "metadata": {},
   "outputs": [
    {
     "name": "stdout",
     "output_type": "stream",
     "text": [
      "(39281, 9) (39281, 1)\n"
     ]
    }
   ],
   "source": [
    "print(X_train.shape, y_train.shape)"
   ]
  },
  {
   "cell_type": "code",
   "execution_count": 38,
   "metadata": {},
   "outputs": [
    {
     "name": "stdout",
     "output_type": "stream",
     "text": [
      "(9821, 9) (9821, 1)\n"
     ]
    }
   ],
   "source": [
    "print(X_test.shape, y_test.shape)"
   ]
  },
  {
   "cell_type": "code",
   "execution_count": null,
   "metadata": {},
   "outputs": [],
   "source": []
  },
  {
   "cell_type": "code",
   "execution_count": 39,
   "metadata": {},
   "outputs": [
    {
     "name": "stdout",
     "output_type": "stream",
     "text": [
      "Train fraud\n",
      "0        36554\n",
      "1         2727\n",
      "dtype: int64 \n",
      "\n",
      "Test fraud\n",
      "0        9139\n",
      "1         682\n",
      "dtype: int64\n"
     ]
    }
   ],
   "source": [
    "# check the ratio of classes.\n",
    "\n",
    "print('Train', y_train.value_counts(), '\\n')\n",
    "\n",
    "print('Test', y_test.value_counts())"
   ]
  },
  {
   "cell_type": "code",
   "execution_count": null,
   "metadata": {},
   "outputs": [],
   "source": []
  },
  {
   "cell_type": "code",
   "execution_count": 40,
   "metadata": {},
   "outputs": [],
   "source": [
    "# balance our training data with UnderSampling. \n",
    "\n",
    "rus = RandomUnderSampler(random_state=random_state)\n",
    "\n",
    "X_train, y_train = rus.fit_resample(X_train, y_train)"
   ]
  },
  {
   "cell_type": "code",
   "execution_count": null,
   "metadata": {},
   "outputs": [],
   "source": []
  },
  {
   "cell_type": "code",
   "execution_count": 41,
   "metadata": {},
   "outputs": [
    {
     "name": "stdout",
     "output_type": "stream",
     "text": [
      "Train fraud\n",
      "1        2727\n",
      "0        2727\n",
      "dtype: int64 \n",
      "\n",
      "Test fraud\n",
      "0        9139\n",
      "1         682\n",
      "dtype: int64\n"
     ]
    }
   ],
   "source": [
    "# check the ratio of classes.\n",
    "\n",
    "print('Train', y_train.value_counts(), '\\n')\n",
    "\n",
    "print('Test', y_test.value_counts())"
   ]
  },
  {
   "cell_type": "code",
   "execution_count": null,
   "metadata": {},
   "outputs": [],
   "source": []
  },
  {
   "cell_type": "code",
   "execution_count": null,
   "metadata": {},
   "outputs": [],
   "source": []
  },
  {
   "cell_type": "code",
   "execution_count": 42,
   "metadata": {},
   "outputs": [],
   "source": [
    "# apply encoding for more understandable kinds of categorical features for our model.\n",
    "\n",
    "X_train = pd.get_dummies(X_train, columns=['email_domain', 'gender', 'marital', 'employment', 'pet'],\n",
    "                         drop_first=True, prefix='C')\n",
    "\n",
    "\n",
    "X_test = pd.get_dummies(X_test, columns=['email_domain', 'gender', 'marital', 'employment', 'pet'],\n",
    "                        drop_first=True, prefix='C')"
   ]
  },
  {
   "cell_type": "code",
   "execution_count": null,
   "metadata": {},
   "outputs": [],
   "source": []
  },
  {
   "cell_type": "code",
   "execution_count": null,
   "metadata": {},
   "outputs": [],
   "source": []
  },
  {
   "cell_type": "code",
   "execution_count": 43,
   "metadata": {
    "scrolled": true
   },
   "outputs": [
    {
     "data": {
      "text/html": [
       "<div>\n",
       "<style scoped>\n",
       "    .dataframe tbody tr th:only-of-type {\n",
       "        vertical-align: middle;\n",
       "    }\n",
       "\n",
       "    .dataframe tbody tr th {\n",
       "        vertical-align: top;\n",
       "    }\n",
       "\n",
       "    .dataframe thead th {\n",
       "        text-align: right;\n",
       "    }\n",
       "</style>\n",
       "<table border=\"1\" class=\"dataframe\">\n",
       "  <thead>\n",
       "    <tr style=\"text-align: right;\">\n",
       "      <th></th>\n",
       "      <th>length_of_activity_in_minutes</th>\n",
       "      <th>promised_reward</th>\n",
       "      <th>gained_reward</th>\n",
       "      <th>activity_duration</th>\n",
       "      <th>C_2</th>\n",
       "      <th>C_3</th>\n",
       "      <th>C_4</th>\n",
       "      <th>C_5</th>\n",
       "      <th>C_6</th>\n",
       "      <th>C_7</th>\n",
       "      <th>...</th>\n",
       "      <th>C_3</th>\n",
       "      <th>C_4</th>\n",
       "      <th>C_5</th>\n",
       "      <th>C_6</th>\n",
       "      <th>C_7</th>\n",
       "      <th>C_8</th>\n",
       "      <th>C_9</th>\n",
       "      <th>C_10</th>\n",
       "      <th>C_11</th>\n",
       "      <th>C_1</th>\n",
       "    </tr>\n",
       "  </thead>\n",
       "  <tbody>\n",
       "    <tr>\n",
       "      <th>0</th>\n",
       "      <td>0.692100</td>\n",
       "      <td>0.936365</td>\n",
       "      <td>-0.691802</td>\n",
       "      <td>-0.085709</td>\n",
       "      <td>0</td>\n",
       "      <td>1</td>\n",
       "      <td>0</td>\n",
       "      <td>0</td>\n",
       "      <td>0</td>\n",
       "      <td>0</td>\n",
       "      <td>...</td>\n",
       "      <td>1</td>\n",
       "      <td>0</td>\n",
       "      <td>0</td>\n",
       "      <td>0</td>\n",
       "      <td>0</td>\n",
       "      <td>0</td>\n",
       "      <td>0</td>\n",
       "      <td>0</td>\n",
       "      <td>0</td>\n",
       "      <td>1</td>\n",
       "    </tr>\n",
       "    <tr>\n",
       "      <th>1</th>\n",
       "      <td>0.040204</td>\n",
       "      <td>-0.569728</td>\n",
       "      <td>-0.568957</td>\n",
       "      <td>-0.048018</td>\n",
       "      <td>0</td>\n",
       "      <td>0</td>\n",
       "      <td>0</td>\n",
       "      <td>0</td>\n",
       "      <td>0</td>\n",
       "      <td>1</td>\n",
       "      <td>...</td>\n",
       "      <td>0</td>\n",
       "      <td>0</td>\n",
       "      <td>0</td>\n",
       "      <td>0</td>\n",
       "      <td>0</td>\n",
       "      <td>0</td>\n",
       "      <td>0</td>\n",
       "      <td>0</td>\n",
       "      <td>0</td>\n",
       "      <td>1</td>\n",
       "    </tr>\n",
       "    <tr>\n",
       "      <th>2</th>\n",
       "      <td>1.995894</td>\n",
       "      <td>4.809174</td>\n",
       "      <td>-0.691802</td>\n",
       "      <td>-0.076606</td>\n",
       "      <td>0</td>\n",
       "      <td>1</td>\n",
       "      <td>0</td>\n",
       "      <td>0</td>\n",
       "      <td>0</td>\n",
       "      <td>0</td>\n",
       "      <td>...</td>\n",
       "      <td>0</td>\n",
       "      <td>0</td>\n",
       "      <td>0</td>\n",
       "      <td>0</td>\n",
       "      <td>0</td>\n",
       "      <td>0</td>\n",
       "      <td>0</td>\n",
       "      <td>0</td>\n",
       "      <td>0</td>\n",
       "      <td>1</td>\n",
       "    </tr>\n",
       "    <tr>\n",
       "      <th>3</th>\n",
       "      <td>0.692100</td>\n",
       "      <td>-0.031838</td>\n",
       "      <td>-0.568957</td>\n",
       "      <td>-0.057121</td>\n",
       "      <td>1</td>\n",
       "      <td>0</td>\n",
       "      <td>0</td>\n",
       "      <td>0</td>\n",
       "      <td>0</td>\n",
       "      <td>0</td>\n",
       "      <td>...</td>\n",
       "      <td>0</td>\n",
       "      <td>0</td>\n",
       "      <td>0</td>\n",
       "      <td>0</td>\n",
       "      <td>0</td>\n",
       "      <td>0</td>\n",
       "      <td>0</td>\n",
       "      <td>0</td>\n",
       "      <td>0</td>\n",
       "      <td>1</td>\n",
       "    </tr>\n",
       "    <tr>\n",
       "      <th>4</th>\n",
       "      <td>-0.309166</td>\n",
       "      <td>-0.135873</td>\n",
       "      <td>0.668564</td>\n",
       "      <td>1.056535</td>\n",
       "      <td>0</td>\n",
       "      <td>0</td>\n",
       "      <td>0</td>\n",
       "      <td>0</td>\n",
       "      <td>0</td>\n",
       "      <td>1</td>\n",
       "      <td>...</td>\n",
       "      <td>0</td>\n",
       "      <td>0</td>\n",
       "      <td>1</td>\n",
       "      <td>0</td>\n",
       "      <td>0</td>\n",
       "      <td>0</td>\n",
       "      <td>0</td>\n",
       "      <td>0</td>\n",
       "      <td>0</td>\n",
       "      <td>1</td>\n",
       "    </tr>\n",
       "  </tbody>\n",
       "</table>\n",
       "<p>5 rows × 24 columns</p>\n",
       "</div>"
      ],
      "text/plain": [
       "   length_of_activity_in_minutes  promised_reward  gained_reward  \\\n",
       "0                       0.692100         0.936365      -0.691802   \n",
       "1                       0.040204        -0.569728      -0.568957   \n",
       "2                       1.995894         4.809174      -0.691802   \n",
       "3                       0.692100        -0.031838      -0.568957   \n",
       "4                      -0.309166        -0.135873       0.668564   \n",
       "\n",
       "   activity_duration  C_2  C_3  C_4  C_5  C_6  C_7  ...  C_3  C_4  C_5  C_6  \\\n",
       "0          -0.085709    0    1    0    0    0    0  ...    1    0    0    0   \n",
       "1          -0.048018    0    0    0    0    0    1  ...    0    0    0    0   \n",
       "2          -0.076606    0    1    0    0    0    0  ...    0    0    0    0   \n",
       "3          -0.057121    1    0    0    0    0    0  ...    0    0    0    0   \n",
       "4           1.056535    0    0    0    0    0    1  ...    0    0    1    0   \n",
       "\n",
       "   C_7  C_8  C_9  C_10  C_11  C_1  \n",
       "0    0    0    0     0     0    1  \n",
       "1    0    0    0     0     0    1  \n",
       "2    0    0    0     0     0    1  \n",
       "3    0    0    0     0     0    1  \n",
       "4    0    0    0     0     0    1  \n",
       "\n",
       "[5 rows x 24 columns]"
      ]
     },
     "execution_count": 43,
     "metadata": {},
     "output_type": "execute_result"
    }
   ],
   "source": [
    "X_train.head()"
   ]
  },
  {
   "cell_type": "code",
   "execution_count": null,
   "metadata": {},
   "outputs": [],
   "source": []
  },
  {
   "cell_type": "code",
   "execution_count": null,
   "metadata": {},
   "outputs": [],
   "source": []
  },
  {
   "cell_type": "code",
   "execution_count": 44,
   "metadata": {},
   "outputs": [],
   "source": [
    "# initializing the algorithm LogisticRegression Classifier.\n",
    "\n",
    "lr = LogisticRegression(random_state=random_state)"
   ]
  },
  {
   "cell_type": "code",
   "execution_count": 45,
   "metadata": {},
   "outputs": [],
   "source": [
    "# set the search space for hyperparameters.\n",
    "\n",
    "lr_param_grid = {'penalty' : ['l1', 'l2'],\n",
    "                 'C' : np.logspace(-4, 4, 20),\n",
    "                 'solver' : ['liblinear']}"
   ]
  },
  {
   "cell_type": "code",
   "execution_count": 46,
   "metadata": {},
   "outputs": [],
   "source": [
    "# initialize the grid model by setting the search space and 5 fold cross validation.\n",
    "\n",
    "CV_lr = GridSearchCV(estimator=lr, param_grid=lr_param_grid, cv= 5, n_jobs=-1)"
   ]
  },
  {
   "cell_type": "code",
   "execution_count": 47,
   "metadata": {},
   "outputs": [
    {
     "data": {
      "text/plain": [
       "GridSearchCV(cv=5, estimator=LogisticRegression(random_state=42), n_jobs=-1,\n",
       "             param_grid={'C': array([1.00000000e-04, 2.63665090e-04, 6.95192796e-04, 1.83298071e-03,\n",
       "       4.83293024e-03, 1.27427499e-02, 3.35981829e-02, 8.85866790e-02,\n",
       "       2.33572147e-01, 6.15848211e-01, 1.62377674e+00, 4.28133240e+00,\n",
       "       1.12883789e+01, 2.97635144e+01, 7.84759970e+01, 2.06913808e+02,\n",
       "       5.45559478e+02, 1.43844989e+03, 3.79269019e+03, 1.00000000e+04]),\n",
       "                         'penalty': ['l1', 'l2'], 'solver': ['liblinear']})"
      ]
     },
     "execution_count": 47,
     "metadata": {},
     "output_type": "execute_result"
    }
   ],
   "source": [
    "# apply our grid model on the training data.\n",
    "\n",
    "CV_lr.fit(X_train, y_train)"
   ]
  },
  {
   "cell_type": "code",
   "execution_count": 48,
   "metadata": {},
   "outputs": [
    {
     "data": {
      "text/plain": [
       "0.8351664578410514"
      ]
     },
     "execution_count": 48,
     "metadata": {},
     "output_type": "execute_result"
    }
   ],
   "source": [
    "# best average accuracy score on the training data.\n",
    "\n",
    "CV_lr.best_score_"
   ]
  },
  {
   "cell_type": "code",
   "execution_count": 49,
   "metadata": {},
   "outputs": [],
   "source": [
    "best_lr_model = CV_lr.best_estimator_"
   ]
  },
  {
   "cell_type": "code",
   "execution_count": 50,
   "metadata": {},
   "outputs": [],
   "source": [
    "# prediction of our test data\n",
    "\n",
    "lr_predictions = CV_lr.best_estimator_.predict(X_test)\n",
    "\n",
    "lr_probs = CV_lr.best_estimator_.predict_proba(X_test)"
   ]
  },
  {
   "cell_type": "code",
   "execution_count": 51,
   "metadata": {},
   "outputs": [
    {
     "name": "stdout",
     "output_type": "stream",
     "text": [
      "0.8878230932560304\n",
      "              precision    recall  f1-score   support\n",
      "\n",
      "           0       0.99      0.85      0.91      9139\n",
      "           1       0.29      0.84      0.43       682\n",
      "\n",
      "    accuracy                           0.84      9821\n",
      "   macro avg       0.64      0.84      0.67      9821\n",
      "weighted avg       0.94      0.84      0.88      9821\n",
      "\n",
      "[[7723 1416]\n",
      " [ 108  574]]\n"
     ]
    }
   ],
   "source": [
    "# check more important metrics\n",
    "\n",
    "print(roc_auc_score(y_test, lr_probs[:,1]))\n",
    "print(classification_report(y_test, lr_predictions))\n",
    "print(confusion_matrix(y_test, lr_predictions))"
   ]
  },
  {
   "cell_type": "code",
   "execution_count": null,
   "metadata": {},
   "outputs": [],
   "source": []
  },
  {
   "cell_type": "code",
   "execution_count": null,
   "metadata": {},
   "outputs": [],
   "source": []
  },
  {
   "cell_type": "code",
   "execution_count": null,
   "metadata": {},
   "outputs": [],
   "source": []
  },
  {
   "cell_type": "code",
   "execution_count": 52,
   "metadata": {},
   "outputs": [],
   "source": [
    "# let's try another algorithm."
   ]
  },
  {
   "cell_type": "code",
   "execution_count": 53,
   "metadata": {},
   "outputs": [],
   "source": [
    "# initializing the algorithm Random Forest Classifier.\n",
    "\n",
    "rfc = RandomForestClassifier(random_state=random_state)"
   ]
  },
  {
   "cell_type": "code",
   "execution_count": 54,
   "metadata": {},
   "outputs": [],
   "source": [
    "# set the search space for hyperparameters.\n",
    "\n",
    "param_grid = {'max_depth': [80, 90, 100, 110],\n",
    "              'max_features': [2, 3],\n",
    "              'min_samples_leaf': [3, 4, 5],\n",
    "              'min_samples_split': [8, 10, 12],\n",
    "              'n_estimators': [100, 200, 300]}"
   ]
  },
  {
   "cell_type": "code",
   "execution_count": 55,
   "metadata": {},
   "outputs": [],
   "source": [
    "# initialize the model by setting the search space and 5 fold cross validation.\n",
    "\n",
    "CV_rfc = GridSearchCV(estimator=rfc, param_grid=param_grid, cv= 5, n_jobs=-1)"
   ]
  },
  {
   "cell_type": "code",
   "execution_count": null,
   "metadata": {},
   "outputs": [],
   "source": []
  },
  {
   "cell_type": "code",
   "execution_count": 56,
   "metadata": {},
   "outputs": [
    {
     "data": {
      "text/plain": [
       "GridSearchCV(cv=5, estimator=RandomForestClassifier(random_state=42), n_jobs=-1,\n",
       "             param_grid={'max_depth': [80, 90, 100, 110],\n",
       "                         'max_features': [2, 3], 'min_samples_leaf': [3, 4, 5],\n",
       "                         'min_samples_split': [8, 10, 12],\n",
       "                         'n_estimators': [100, 200, 300]})"
      ]
     },
     "execution_count": 56,
     "metadata": {},
     "output_type": "execute_result"
    }
   ],
   "source": [
    "# apply our model on the training data. \n",
    "\n",
    "CV_rfc.fit(X_train, y_train)"
   ]
  },
  {
   "cell_type": "code",
   "execution_count": null,
   "metadata": {},
   "outputs": [],
   "source": []
  },
  {
   "cell_type": "code",
   "execution_count": 57,
   "metadata": {},
   "outputs": [],
   "source": [
    "# best chosen hyperparameters.\n",
    "\n",
    "best_rfc_model = CV_rfc.best_estimator_"
   ]
  },
  {
   "cell_type": "code",
   "execution_count": 58,
   "metadata": {},
   "outputs": [
    {
     "data": {
      "text/plain": [
       "0.8758694573617337"
      ]
     },
     "execution_count": 58,
     "metadata": {},
     "output_type": "execute_result"
    }
   ],
   "source": [
    "# best average accuracy score on the training data.\n",
    "\n",
    "CV_rfc.best_score_"
   ]
  },
  {
   "cell_type": "code",
   "execution_count": null,
   "metadata": {},
   "outputs": [],
   "source": []
  },
  {
   "cell_type": "code",
   "execution_count": 59,
   "metadata": {},
   "outputs": [],
   "source": [
    "# prediction of our test data.\n",
    "\n",
    "rfc_predictions = CV_rfc.best_estimator_.predict(X_test)\n",
    "\n",
    "rfc_probs = CV_rfc.best_estimator_.predict_proba(X_test)"
   ]
  },
  {
   "cell_type": "code",
   "execution_count": null,
   "metadata": {},
   "outputs": [],
   "source": []
  },
  {
   "cell_type": "code",
   "execution_count": 60,
   "metadata": {},
   "outputs": [
    {
     "name": "stdout",
     "output_type": "stream",
     "text": [
      "0.9278573603700938\n",
      "              precision    recall  f1-score   support\n",
      "\n",
      "           0       0.99      0.90      0.94      9139\n",
      "           1       0.38      0.85      0.52       682\n",
      "\n",
      "    accuracy                           0.89      9821\n",
      "   macro avg       0.68      0.87      0.73      9821\n",
      "weighted avg       0.95      0.89      0.91      9821\n",
      "\n",
      "[[8184  955]\n",
      " [ 100  582]]\n"
     ]
    }
   ],
   "source": [
    "# check more important metrics.\n",
    "\n",
    "print(roc_auc_score(y_test, rfc_probs[:,1]))\n",
    "\n",
    "print(classification_report(y_test, rfc_predictions))\n",
    "\n",
    "print(confusion_matrix(y_test, rfc_predictions))"
   ]
  },
  {
   "cell_type": "code",
   "execution_count": null,
   "metadata": {},
   "outputs": [],
   "source": []
  },
  {
   "cell_type": "code",
   "execution_count": null,
   "metadata": {},
   "outputs": [],
   "source": []
  },
  {
   "cell_type": "code",
   "execution_count": null,
   "metadata": {},
   "outputs": [],
   "source": []
  },
  {
   "cell_type": "code",
   "execution_count": 61,
   "metadata": {},
   "outputs": [],
   "source": [
    "# let's try to improve our model with Principal component analysis."
   ]
  },
  {
   "cell_type": "code",
   "execution_count": 62,
   "metadata": {},
   "outputs": [
    {
     "data": {
      "text/plain": [
       "Text(0.5, 0, 'Principal Component #')"
      ]
     },
     "execution_count": 62,
     "metadata": {},
     "output_type": "execute_result"
    },
    {
     "data": {
      "image/png": "[encoded data removed]",
      "text/plain": [
       "<Figure size 432x288 with 1 Axes>"
      ]
     },
     "metadata": {
      "needs_background": "light"
     },
     "output_type": "display_data"
    }
   ],
   "source": [
    "# Get our explained variance ratios from PCA using all features\n",
    "pca = PCA()\n",
    "pca.fit(X)\n",
    "exp_variance = pca.explained_variance_ratio_\n",
    "\n",
    "# plot the explained variance using a barplot\n",
    "fig, ax = plt.subplots()\n",
    "ax.bar(range(pca.n_components_), exp_variance)\n",
    "ax.set_xlabel('Principal Component #')"
   ]
  },
  {
   "cell_type": "code",
   "execution_count": null,
   "metadata": {},
   "outputs": [],
   "source": []
  },
  {
   "cell_type": "code",
   "execution_count": 63,
   "metadata": {},
   "outputs": [
    {
     "data": {
      "text/plain": [
       "<matplotlib.lines.Line2D at 0x7f6c7006fd00>"
      ]
     },
     "execution_count": 63,
     "metadata": {},
     "output_type": "execute_result"
    },
    {
     "data": {
      "image/png": "[encoded data removed]",
      "text/plain": [
       "<Figure size 432x288 with 1 Axes>"
      ]
     },
     "metadata": {
      "needs_background": "light"
     },
     "output_type": "display_data"
    }
   ],
   "source": [
    "# Calculate the cumulative explained variance\n",
    "cum_exp_variance = np.cumsum(exp_variance)\n",
    "\n",
    "# Plot the cumulative explained variance and draw a dashed line at 0.85.\n",
    "fig, ax = plt.subplots()\n",
    "ax.plot(cum_exp_variance)\n",
    "ax.axhline(y=0.85, linestyle='--')"
   ]
  },
  {
   "cell_type": "code",
   "execution_count": 64,
   "metadata": {},
   "outputs": [],
   "source": [
    "# choose the n_components where about 85% of our variance can be explained.\n",
    "n_components = 5\n",
    "\n",
    "# Perform PCA with the chosen number of components and project data onto components.\n",
    "\n",
    "pca = PCA(n_components, random_state=random_state)\n",
    "pca.fit(X)\n",
    "new_X = pca.transform(X)"
   ]
  },
  {
   "cell_type": "code",
   "execution_count": null,
   "metadata": {},
   "outputs": [],
   "source": []
  },
  {
   "cell_type": "code",
   "execution_count": 65,
   "metadata": {},
   "outputs": [],
   "source": [
    "# divide the training and test datasets 1/5 with strotification by y so that both classes are present \n",
    "# in the training and test datasets according to the same ratio.\n",
    "\n",
    "new_X_train, new_X_test, new_y_train, new_y_test = train_test_split(new_X, y, test_size=0.2, random_state=random_state, stratify=y)"
   ]
  },
  {
   "cell_type": "code",
   "execution_count": 66,
   "metadata": {},
   "outputs": [],
   "source": [
    "# balance our training data with UnderSampling. \n",
    "\n",
    "new_X_train, new_y_train = rus.fit_resample(new_X_train, new_y_train)"
   ]
  },
  {
   "cell_type": "code",
   "execution_count": null,
   "metadata": {},
   "outputs": [],
   "source": []
  },
  {
   "cell_type": "code",
   "execution_count": 67,
   "metadata": {},
   "outputs": [
    {
     "data": {
      "text/plain": [
       "GridSearchCV(cv=5, estimator=RandomForestClassifier(random_state=42), n_jobs=-1,\n",
       "             param_grid={'max_depth': [80, 90, 100, 110],\n",
       "                         'max_features': [2, 3], 'min_samples_leaf': [3, 4, 5],\n",
       "                         'min_samples_split': [8, 10, 12],\n",
       "                         'n_estimators': [100, 200, 300]})"
      ]
     },
     "execution_count": 67,
     "metadata": {},
     "output_type": "execute_result"
    }
   ],
   "source": [
    "# apply our grid model on training data. \n",
    "\n",
    "CV_rfc.fit(new_X_train, new_y_train)"
   ]
  },
  {
   "cell_type": "code",
   "execution_count": 68,
   "metadata": {},
   "outputs": [
    {
     "data": {
      "text/plain": [
       "0.8659691050210647"
      ]
     },
     "execution_count": 68,
     "metadata": {},
     "output_type": "execute_result"
    }
   ],
   "source": [
    "# best average accuracy score on training data.\n",
    "\n",
    "CV_rfc.best_score_"
   ]
  },
  {
   "cell_type": "code",
   "execution_count": 69,
   "metadata": {},
   "outputs": [],
   "source": [
    "# prediction of our test data.\n",
    "\n",
    "new_rfc_predictions = CV_rfc.best_estimator_.predict(new_X_test)\n",
    "\n",
    "new_rfc_probs = CV_rfc.best_estimator_.predict_proba(new_X_test)"
   ]
  },
  {
   "cell_type": "code",
   "execution_count": 70,
   "metadata": {},
   "outputs": [
    {
     "name": "stdout",
     "output_type": "stream",
     "text": [
      "0.9229917285944451\n",
      "              precision    recall  f1-score   support\n",
      "\n",
      "           0       0.99      0.89      0.94      9139\n",
      "           1       0.36      0.84      0.51       682\n",
      "\n",
      "    accuracy                           0.89      9821\n",
      "   macro avg       0.68      0.86      0.72      9821\n",
      "weighted avg       0.94      0.89      0.91      9821\n",
      "\n",
      "[[8145  994]\n",
      " [ 111  571]]\n"
     ]
    }
   ],
   "source": [
    "# check more important metrics.\n",
    "\n",
    "print(roc_auc_score(new_y_test, new_rfc_probs[:,1]))\n",
    "\n",
    "print(classification_report(new_y_test, new_rfc_predictions))\n",
    "\n",
    "print(confusion_matrix(new_y_test, new_rfc_predictions))"
   ]
  },
  {
   "cell_type": "code",
   "execution_count": 71,
   "metadata": {},
   "outputs": [],
   "source": [
    "# here we can see that the PCA did not help us in this case."
   ]
  },
  {
   "cell_type": "code",
   "execution_count": null,
   "metadata": {},
   "outputs": [],
   "source": []
  },
  {
   "cell_type": "code",
   "execution_count": 72,
   "metadata": {},
   "outputs": [
    {
     "name": "stdout",
     "output_type": "stream",
     "text": [
      "using our best model, we managed to catch \n",
      "8184 from 9139 0 class and \n",
      "582 from 682 1 class\n"
     ]
    }
   ],
   "source": [
    "# confusion matrix recall results.\n",
    "\n",
    "print(\"using our best model, we managed to catch \\n{} from {} 0 class\" \n",
    "      .format(confusion_matrix(y_test, rfc_predictions)[0][0], sum(confusion_matrix(y_test, rfc_predictions)[0])),\n",
    "      \"and \\n{} from {} 1 class\".format(confusion_matrix(y_test, rfc_predictions)[1][1], \n",
    "                                        sum(confusion_matrix(y_test, rfc_predictions)[1])))"
   ]
  },
  {
   "cell_type": "code",
   "execution_count": null,
   "metadata": {},
   "outputs": [],
   "source": []
  },
  {
   "cell_type": "code",
   "execution_count": 73,
   "metadata": {},
   "outputs": [
    {
     "data": {
      "text/plain": [
       "['fraud_detection_model.pkl']"
      ]
     },
     "execution_count": 73,
     "metadata": {},
     "output_type": "execute_result"
    }
   ],
   "source": [
    "# save our best model.\n",
    "\n",
    "joblib_file = \"fraud_detection_model.pkl\"  \n",
    "dump(best_rfc_model, joblib_file)"
   ]
  }
 ],
 "metadata": {
  "kernelspec": {
   "display_name": "Python 3",
   "language": "python",
   "name": "python3"
  },
  "language_info": {
   "codemirror_mode": {
    "name": "ipython",
    "version": 3
   },
   "file_extension": ".py",
   "mimetype": "text/x-python",
   "name": "python",
   "nbconvert_exporter": "python",
   "pygments_lexer": "ipython3",
   "version": "3.8.5"
  }
 },
 "nbformat": 4,
 "nbformat_minor": 4
}
